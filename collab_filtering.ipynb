{
 "cells": [
  {
   "cell_type": "markdown",
   "id": "df8c6cc0-4582-474e-9ea5-b8ea1eb15cce",
   "metadata": {},
   "source": [
    "# Collaborative Filtering Recommendation System"
   ]
  },
  {
   "cell_type": "markdown",
   "id": "4162ec00-fb05-4a31-8107-4628d0c85d3f",
   "metadata": {},
   "source": [
    "In this project we trained recommendation system on MovieLens 20 Million dataset using the user-user and item-item collaborative filtering. Both approaches aim to create a weighted average score based on the top k similar users/items.\n",
    "\n",
    "While user-user collaborative filtering can give more personalized recommendations, item-item collaborative filtering is preffered as it is able to handle cold start isssues better and generally give better RMSE result as users can be sporadic in their reviews.\n",
    "\n",
    "We obtained Overall RMSE of 0.886 in user-user and 0.85 for item-item while test RMSE for both had deviations with item-item collaborative filtering having 0.95 test RMSE which was better than user-user collaborative filtering. We will improve performance on test RMSE in a later notebook."
   ]
  },
  {
   "cell_type": "code",
   "execution_count": 1,
   "id": "df3dcdb4-f948-4243-ba0b-57d6fcbe96b6",
   "metadata": {},
   "outputs": [],
   "source": [
    "#importing libraries\n",
    "import pandas as pd\n",
    "import numpy as np\n",
    "import matplotlib.pyplot as plt\n",
    "import seaborn as sns\n",
    "from scipy.sparse import csr_matrix\n",
    "from sklearn.neighbors import NearestNeighbors\n",
    "from sklearn.model_selection import train_test_split"
   ]
  },
  {
   "cell_type": "code",
   "execution_count": 3,
   "id": "1aa45690-d8ce-4dc2-b541-e38ee6bb2fa9",
   "metadata": {},
   "outputs": [],
   "source": [
    "df_ratings = pd.read_csv('rating.csv')"
   ]
  },
  {
   "cell_type": "code",
   "execution_count": 9,
   "id": "124ffbfd-bd0f-4d13-8065-6fae2142cd69",
   "metadata": {},
   "outputs": [
    {
     "data": {
      "text/html": [
       "<div>\n",
       "<style scoped>\n",
       "    .dataframe tbody tr th:only-of-type {\n",
       "        vertical-align: middle;\n",
       "    }\n",
       "\n",
       "    .dataframe tbody tr th {\n",
       "        vertical-align: top;\n",
       "    }\n",
       "\n",
       "    .dataframe thead th {\n",
       "        text-align: right;\n",
       "    }\n",
       "</style>\n",
       "<table border=\"1\" class=\"dataframe\">\n",
       "  <thead>\n",
       "    <tr style=\"text-align: right;\">\n",
       "      <th></th>\n",
       "      <th>userId</th>\n",
       "      <th>movieId</th>\n",
       "      <th>rating</th>\n",
       "      <th>timestamp</th>\n",
       "    </tr>\n",
       "  </thead>\n",
       "  <tbody>\n",
       "    <tr>\n",
       "      <th>0</th>\n",
       "      <td>1</td>\n",
       "      <td>2</td>\n",
       "      <td>3.5</td>\n",
       "      <td>2005-04-02 23:53:47</td>\n",
       "    </tr>\n",
       "    <tr>\n",
       "      <th>1</th>\n",
       "      <td>1</td>\n",
       "      <td>29</td>\n",
       "      <td>3.5</td>\n",
       "      <td>2005-04-02 23:31:16</td>\n",
       "    </tr>\n",
       "    <tr>\n",
       "      <th>2</th>\n",
       "      <td>1</td>\n",
       "      <td>32</td>\n",
       "      <td>3.5</td>\n",
       "      <td>2005-04-02 23:33:39</td>\n",
       "    </tr>\n",
       "    <tr>\n",
       "      <th>3</th>\n",
       "      <td>1</td>\n",
       "      <td>47</td>\n",
       "      <td>3.5</td>\n",
       "      <td>2005-04-02 23:32:07</td>\n",
       "    </tr>\n",
       "    <tr>\n",
       "      <th>4</th>\n",
       "      <td>1</td>\n",
       "      <td>50</td>\n",
       "      <td>3.5</td>\n",
       "      <td>2005-04-02 23:29:40</td>\n",
       "    </tr>\n",
       "  </tbody>\n",
       "</table>\n",
       "</div>"
      ],
      "text/plain": [
       "   userId  movieId  rating            timestamp\n",
       "0       1        2     3.5  2005-04-02 23:53:47\n",
       "1       1       29     3.5  2005-04-02 23:31:16\n",
       "2       1       32     3.5  2005-04-02 23:33:39\n",
       "3       1       47     3.5  2005-04-02 23:32:07\n",
       "4       1       50     3.5  2005-04-02 23:29:40"
      ]
     },
     "execution_count": 9,
     "metadata": {},
     "output_type": "execute_result"
    }
   ],
   "source": [
    "df_ratings.head()"
   ]
  },
  {
   "cell_type": "code",
   "execution_count": 10,
   "id": "b72ddbac-a9d1-4e78-996e-974a7a4ffff9",
   "metadata": {},
   "outputs": [
    {
     "name": "stdout",
     "output_type": "stream",
     "text": [
      "<class 'pandas.core.frame.DataFrame'>\n",
      "RangeIndex: 20000263 entries, 0 to 20000262\n",
      "Data columns (total 4 columns):\n",
      " #   Column     Dtype  \n",
      "---  ------     -----  \n",
      " 0   userId     int64  \n",
      " 1   movieId    int64  \n",
      " 2   rating     float64\n",
      " 3   timestamp  object \n",
      "dtypes: float64(1), int64(2), object(1)\n",
      "memory usage: 610.4+ MB\n"
     ]
    }
   ],
   "source": [
    "df_ratings.info()"
   ]
  },
  {
   "cell_type": "code",
   "execution_count": 11,
   "id": "8481ceec-0c1e-48e8-8eaa-1381fd14149c",
   "metadata": {},
   "outputs": [
    {
     "data": {
      "text/html": [
       "<div>\n",
       "<style scoped>\n",
       "    .dataframe tbody tr th:only-of-type {\n",
       "        vertical-align: middle;\n",
       "    }\n",
       "\n",
       "    .dataframe tbody tr th {\n",
       "        vertical-align: top;\n",
       "    }\n",
       "\n",
       "    .dataframe thead th {\n",
       "        text-align: right;\n",
       "    }\n",
       "</style>\n",
       "<table border=\"1\" class=\"dataframe\">\n",
       "  <thead>\n",
       "    <tr style=\"text-align: right;\">\n",
       "      <th></th>\n",
       "      <th>userId</th>\n",
       "      <th>movieId</th>\n",
       "      <th>rating</th>\n",
       "    </tr>\n",
       "  </thead>\n",
       "  <tbody>\n",
       "    <tr>\n",
       "      <th>count</th>\n",
       "      <td>2.000026e+07</td>\n",
       "      <td>2.000026e+07</td>\n",
       "      <td>2.000026e+07</td>\n",
       "    </tr>\n",
       "    <tr>\n",
       "      <th>mean</th>\n",
       "      <td>6.904587e+04</td>\n",
       "      <td>9.041567e+03</td>\n",
       "      <td>3.525529e+00</td>\n",
       "    </tr>\n",
       "    <tr>\n",
       "      <th>std</th>\n",
       "      <td>4.003863e+04</td>\n",
       "      <td>1.978948e+04</td>\n",
       "      <td>1.051989e+00</td>\n",
       "    </tr>\n",
       "    <tr>\n",
       "      <th>min</th>\n",
       "      <td>1.000000e+00</td>\n",
       "      <td>1.000000e+00</td>\n",
       "      <td>5.000000e-01</td>\n",
       "    </tr>\n",
       "    <tr>\n",
       "      <th>25%</th>\n",
       "      <td>3.439500e+04</td>\n",
       "      <td>9.020000e+02</td>\n",
       "      <td>3.000000e+00</td>\n",
       "    </tr>\n",
       "    <tr>\n",
       "      <th>50%</th>\n",
       "      <td>6.914100e+04</td>\n",
       "      <td>2.167000e+03</td>\n",
       "      <td>3.500000e+00</td>\n",
       "    </tr>\n",
       "    <tr>\n",
       "      <th>75%</th>\n",
       "      <td>1.036370e+05</td>\n",
       "      <td>4.770000e+03</td>\n",
       "      <td>4.000000e+00</td>\n",
       "    </tr>\n",
       "    <tr>\n",
       "      <th>max</th>\n",
       "      <td>1.384930e+05</td>\n",
       "      <td>1.312620e+05</td>\n",
       "      <td>5.000000e+00</td>\n",
       "    </tr>\n",
       "  </tbody>\n",
       "</table>\n",
       "</div>"
      ],
      "text/plain": [
       "             userId       movieId        rating\n",
       "count  2.000026e+07  2.000026e+07  2.000026e+07\n",
       "mean   6.904587e+04  9.041567e+03  3.525529e+00\n",
       "std    4.003863e+04  1.978948e+04  1.051989e+00\n",
       "min    1.000000e+00  1.000000e+00  5.000000e-01\n",
       "25%    3.439500e+04  9.020000e+02  3.000000e+00\n",
       "50%    6.914100e+04  2.167000e+03  3.500000e+00\n",
       "75%    1.036370e+05  4.770000e+03  4.000000e+00\n",
       "max    1.384930e+05  1.312620e+05  5.000000e+00"
      ]
     },
     "execution_count": 11,
     "metadata": {},
     "output_type": "execute_result"
    }
   ],
   "source": [
    "df_ratings.describe()"
   ]
  },
  {
   "cell_type": "code",
   "execution_count": 12,
   "id": "b66e3694-8043-4ae5-bf86-e20b3ccd6557",
   "metadata": {},
   "outputs": [
    {
     "data": {
      "text/plain": [
       "userId       0\n",
       "movieId      0\n",
       "rating       0\n",
       "timestamp    0\n",
       "dtype: int64"
      ]
     },
     "execution_count": 12,
     "metadata": {},
     "output_type": "execute_result"
    }
   ],
   "source": [
    "df_ratings.isnull().sum()"
   ]
  },
  {
   "cell_type": "code",
   "execution_count": 13,
   "id": "a7528930-3b7a-424b-b8b0-b6bf737b165d",
   "metadata": {},
   "outputs": [
    {
     "data": {
      "text/plain": [
       "3056357     0.5\n",
       "3056358     0.5\n",
       "18375889    0.5\n",
       "4354958     0.5\n",
       "3056291     0.5\n",
       "           ... \n",
       "20000230    5.0\n",
       "20000217    5.0\n",
       "20000209    5.0\n",
       "20000202    5.0\n",
       "131         5.0\n",
       "Name: rating, Length: 20000263, dtype: float64"
      ]
     },
     "execution_count": 13,
     "metadata": {},
     "output_type": "execute_result"
    }
   ],
   "source": [
    "df_ratings['rating'].sort_values()"
   ]
  },
  {
   "cell_type": "code",
   "execution_count": 14,
   "id": "b43df20e-a5e5-4410-97c8-113eccc174da",
   "metadata": {},
   "outputs": [
    {
     "data": {
      "text/html": [
       "<div>\n",
       "<style scoped>\n",
       "    .dataframe tbody tr th:only-of-type {\n",
       "        vertical-align: middle;\n",
       "    }\n",
       "\n",
       "    .dataframe tbody tr th {\n",
       "        vertical-align: top;\n",
       "    }\n",
       "\n",
       "    .dataframe thead th {\n",
       "        text-align: right;\n",
       "    }\n",
       "</style>\n",
       "<table border=\"1\" class=\"dataframe\">\n",
       "  <thead>\n",
       "    <tr style=\"text-align: right;\">\n",
       "      <th></th>\n",
       "      <th>userId</th>\n",
       "      <th>movieId</th>\n",
       "      <th>rating</th>\n",
       "      <th>timestamp</th>\n",
       "    </tr>\n",
       "  </thead>\n",
       "  <tbody>\n",
       "  </tbody>\n",
       "</table>\n",
       "</div>"
      ],
      "text/plain": [
       "Empty DataFrame\n",
       "Columns: [userId, movieId, rating, timestamp]\n",
       "Index: []"
      ]
     },
     "execution_count": 14,
     "metadata": {},
     "output_type": "execute_result"
    }
   ],
   "source": [
    "df_ratings.loc[df_ratings['rating'] == 0,]"
   ]
  },
  {
   "cell_type": "code",
   "execution_count": 15,
   "id": "66e186af-da39-410d-8a3d-c7b8e52ad6af",
   "metadata": {},
   "outputs": [
    {
     "data": {
      "text/plain": [
       "138493"
      ]
     },
     "execution_count": 15,
     "metadata": {},
     "output_type": "execute_result"
    }
   ],
   "source": [
    "len(set(df_ratings.userId))"
   ]
  },
  {
   "cell_type": "code",
   "execution_count": 16,
   "id": "e2ea15ad-2086-4baf-96e1-2f0fc8b4851f",
   "metadata": {},
   "outputs": [
    {
     "data": {
      "text/plain": [
       "26744"
      ]
     },
     "execution_count": 16,
     "metadata": {},
     "output_type": "execute_result"
    }
   ],
   "source": [
    "len(set(df_ratings.movieId))"
   ]
  },
  {
   "cell_type": "code",
   "execution_count": 17,
   "id": "7b1e20a9-f269-4253-a10b-de8299e891d6",
   "metadata": {},
   "outputs": [
    {
     "data": {
      "text/plain": [
       "1    3972\n",
       "2    2043\n",
       "3    1355\n",
       "4    1029\n",
       "5     826\n",
       "Name: count, dtype: int64"
      ]
     },
     "execution_count": 17,
     "metadata": {},
     "output_type": "execute_result"
    }
   ],
   "source": [
    "df_ratings[['movieId','rating']].groupby('movieId').size().value_counts().head(5)"
   ]
  },
  {
   "cell_type": "code",
   "execution_count": 18,
   "id": "059239f1-52fd-4b8a-8d63-a0fbb9e85a8b",
   "metadata": {},
   "outputs": [
    {
     "data": {
      "text/html": [
       "<div>\n",
       "<style scoped>\n",
       "    .dataframe tbody tr th:only-of-type {\n",
       "        vertical-align: middle;\n",
       "    }\n",
       "\n",
       "    .dataframe tbody tr th {\n",
       "        vertical-align: top;\n",
       "    }\n",
       "\n",
       "    .dataframe thead th {\n",
       "        text-align: right;\n",
       "    }\n",
       "</style>\n",
       "<table border=\"1\" class=\"dataframe\">\n",
       "  <thead>\n",
       "    <tr style=\"text-align: right;\">\n",
       "      <th></th>\n",
       "      <th>rating</th>\n",
       "    </tr>\n",
       "    <tr>\n",
       "      <th>movieId</th>\n",
       "      <th></th>\n",
       "    </tr>\n",
       "  </thead>\n",
       "  <tbody>\n",
       "    <tr>\n",
       "      <th>54326</th>\n",
       "      <td>5.0</td>\n",
       "    </tr>\n",
       "    <tr>\n",
       "      <th>26718</th>\n",
       "      <td>5.0</td>\n",
       "    </tr>\n",
       "    <tr>\n",
       "      <th>105846</th>\n",
       "      <td>5.0</td>\n",
       "    </tr>\n",
       "    <tr>\n",
       "      <th>81117</th>\n",
       "      <td>5.0</td>\n",
       "    </tr>\n",
       "    <tr>\n",
       "      <th>130996</th>\n",
       "      <td>5.0</td>\n",
       "    </tr>\n",
       "    <tr>\n",
       "      <th>105841</th>\n",
       "      <td>5.0</td>\n",
       "    </tr>\n",
       "    <tr>\n",
       "      <th>129478</th>\n",
       "      <td>5.0</td>\n",
       "    </tr>\n",
       "    <tr>\n",
       "      <th>129530</th>\n",
       "      <td>5.0</td>\n",
       "    </tr>\n",
       "    <tr>\n",
       "      <th>129526</th>\n",
       "      <td>5.0</td>\n",
       "    </tr>\n",
       "    <tr>\n",
       "      <th>103871</th>\n",
       "      <td>5.0</td>\n",
       "    </tr>\n",
       "  </tbody>\n",
       "</table>\n",
       "</div>"
      ],
      "text/plain": [
       "         rating\n",
       "movieId        \n",
       "54326       5.0\n",
       "26718       5.0\n",
       "105846      5.0\n",
       "81117       5.0\n",
       "130996      5.0\n",
       "105841      5.0\n",
       "129478      5.0\n",
       "129530      5.0\n",
       "129526      5.0\n",
       "103871      5.0"
      ]
     },
     "execution_count": 18,
     "metadata": {},
     "output_type": "execute_result"
    }
   ],
   "source": [
    "df_ratings[['movieId','rating']].groupby('movieId').mean().sort_values(by = 'rating', ascending = False).head(10)"
   ]
  },
  {
   "cell_type": "code",
   "execution_count": 4,
   "id": "6924ea8f-ca38-4acd-885b-acab09a74751",
   "metadata": {},
   "outputs": [
    {
     "data": {
      "text/html": [
       "<div>\n",
       "<style scoped>\n",
       "    .dataframe tbody tr th:only-of-type {\n",
       "        vertical-align: middle;\n",
       "    }\n",
       "\n",
       "    .dataframe tbody tr th {\n",
       "        vertical-align: top;\n",
       "    }\n",
       "\n",
       "    .dataframe thead th {\n",
       "        text-align: right;\n",
       "    }\n",
       "</style>\n",
       "<table border=\"1\" class=\"dataframe\">\n",
       "  <thead>\n",
       "    <tr style=\"text-align: right;\">\n",
       "      <th></th>\n",
       "      <th>movieId</th>\n",
       "      <th>title</th>\n",
       "      <th>genres</th>\n",
       "    </tr>\n",
       "  </thead>\n",
       "  <tbody>\n",
       "    <tr>\n",
       "      <th>0</th>\n",
       "      <td>1</td>\n",
       "      <td>Toy Story (1995)</td>\n",
       "      <td>Adventure|Animation|Children|Comedy|Fantasy</td>\n",
       "    </tr>\n",
       "    <tr>\n",
       "      <th>1</th>\n",
       "      <td>2</td>\n",
       "      <td>Jumanji (1995)</td>\n",
       "      <td>Adventure|Children|Fantasy</td>\n",
       "    </tr>\n",
       "    <tr>\n",
       "      <th>2</th>\n",
       "      <td>3</td>\n",
       "      <td>Grumpier Old Men (1995)</td>\n",
       "      <td>Comedy|Romance</td>\n",
       "    </tr>\n",
       "    <tr>\n",
       "      <th>3</th>\n",
       "      <td>4</td>\n",
       "      <td>Waiting to Exhale (1995)</td>\n",
       "      <td>Comedy|Drama|Romance</td>\n",
       "    </tr>\n",
       "    <tr>\n",
       "      <th>4</th>\n",
       "      <td>5</td>\n",
       "      <td>Father of the Bride Part II (1995)</td>\n",
       "      <td>Comedy</td>\n",
       "    </tr>\n",
       "  </tbody>\n",
       "</table>\n",
       "</div>"
      ],
      "text/plain": [
       "   movieId                               title  \\\n",
       "0        1                    Toy Story (1995)   \n",
       "1        2                      Jumanji (1995)   \n",
       "2        3             Grumpier Old Men (1995)   \n",
       "3        4            Waiting to Exhale (1995)   \n",
       "4        5  Father of the Bride Part II (1995)   \n",
       "\n",
       "                                        genres  \n",
       "0  Adventure|Animation|Children|Comedy|Fantasy  \n",
       "1                   Adventure|Children|Fantasy  \n",
       "2                               Comedy|Romance  \n",
       "3                         Comedy|Drama|Romance  \n",
       "4                                       Comedy  "
      ]
     },
     "execution_count": 4,
     "metadata": {},
     "output_type": "execute_result"
    }
   ],
   "source": [
    "df_movie = pd.read_csv('movie.csv')\n",
    "df_movie.head()"
   ]
  },
  {
   "cell_type": "code",
   "execution_count": 5,
   "id": "47592017-2b88-409a-b278-9ff042131c16",
   "metadata": {},
   "outputs": [],
   "source": [
    "df_ratings = df_ratings.merge(df_movie, on = 'movieId', how = 'left')"
   ]
  },
  {
   "cell_type": "code",
   "execution_count": 21,
   "id": "cc5ae085-a5b4-4dec-b2b0-88242e9e6698",
   "metadata": {},
   "outputs": [
    {
     "data": {
      "text/html": [
       "<div>\n",
       "<style scoped>\n",
       "    .dataframe tbody tr th:only-of-type {\n",
       "        vertical-align: middle;\n",
       "    }\n",
       "\n",
       "    .dataframe tbody tr th {\n",
       "        vertical-align: top;\n",
       "    }\n",
       "\n",
       "    .dataframe thead th {\n",
       "        text-align: right;\n",
       "    }\n",
       "</style>\n",
       "<table border=\"1\" class=\"dataframe\">\n",
       "  <thead>\n",
       "    <tr style=\"text-align: right;\">\n",
       "      <th></th>\n",
       "      <th>userId</th>\n",
       "      <th>movieId</th>\n",
       "      <th>rating</th>\n",
       "      <th>timestamp</th>\n",
       "      <th>title</th>\n",
       "      <th>genres</th>\n",
       "    </tr>\n",
       "  </thead>\n",
       "  <tbody>\n",
       "    <tr>\n",
       "      <th>0</th>\n",
       "      <td>1</td>\n",
       "      <td>2</td>\n",
       "      <td>3.5</td>\n",
       "      <td>2005-04-02 23:53:47</td>\n",
       "      <td>Jumanji (1995)</td>\n",
       "      <td>Adventure|Children|Fantasy</td>\n",
       "    </tr>\n",
       "    <tr>\n",
       "      <th>1</th>\n",
       "      <td>1</td>\n",
       "      <td>29</td>\n",
       "      <td>3.5</td>\n",
       "      <td>2005-04-02 23:31:16</td>\n",
       "      <td>City of Lost Children, The (Cité des enfants p...</td>\n",
       "      <td>Adventure|Drama|Fantasy|Mystery|Sci-Fi</td>\n",
       "    </tr>\n",
       "    <tr>\n",
       "      <th>2</th>\n",
       "      <td>1</td>\n",
       "      <td>32</td>\n",
       "      <td>3.5</td>\n",
       "      <td>2005-04-02 23:33:39</td>\n",
       "      <td>Twelve Monkeys (a.k.a. 12 Monkeys) (1995)</td>\n",
       "      <td>Mystery|Sci-Fi|Thriller</td>\n",
       "    </tr>\n",
       "    <tr>\n",
       "      <th>3</th>\n",
       "      <td>1</td>\n",
       "      <td>47</td>\n",
       "      <td>3.5</td>\n",
       "      <td>2005-04-02 23:32:07</td>\n",
       "      <td>Seven (a.k.a. Se7en) (1995)</td>\n",
       "      <td>Mystery|Thriller</td>\n",
       "    </tr>\n",
       "    <tr>\n",
       "      <th>4</th>\n",
       "      <td>1</td>\n",
       "      <td>50</td>\n",
       "      <td>3.5</td>\n",
       "      <td>2005-04-02 23:29:40</td>\n",
       "      <td>Usual Suspects, The (1995)</td>\n",
       "      <td>Crime|Mystery|Thriller</td>\n",
       "    </tr>\n",
       "  </tbody>\n",
       "</table>\n",
       "</div>"
      ],
      "text/plain": [
       "   userId  movieId  rating            timestamp  \\\n",
       "0       1        2     3.5  2005-04-02 23:53:47   \n",
       "1       1       29     3.5  2005-04-02 23:31:16   \n",
       "2       1       32     3.5  2005-04-02 23:33:39   \n",
       "3       1       47     3.5  2005-04-02 23:32:07   \n",
       "4       1       50     3.5  2005-04-02 23:29:40   \n",
       "\n",
       "                                               title  \\\n",
       "0                                     Jumanji (1995)   \n",
       "1  City of Lost Children, The (Cité des enfants p...   \n",
       "2          Twelve Monkeys (a.k.a. 12 Monkeys) (1995)   \n",
       "3                        Seven (a.k.a. Se7en) (1995)   \n",
       "4                         Usual Suspects, The (1995)   \n",
       "\n",
       "                                   genres  \n",
       "0              Adventure|Children|Fantasy  \n",
       "1  Adventure|Drama|Fantasy|Mystery|Sci-Fi  \n",
       "2                 Mystery|Sci-Fi|Thriller  \n",
       "3                        Mystery|Thriller  \n",
       "4                  Crime|Mystery|Thriller  "
      ]
     },
     "execution_count": 21,
     "metadata": {},
     "output_type": "execute_result"
    }
   ],
   "source": [
    "df_ratings.head()"
   ]
  },
  {
   "cell_type": "code",
   "execution_count": 22,
   "id": "7cda3cb0-9122-42b6-90d3-258a72f5ce91",
   "metadata": {},
   "outputs": [
    {
     "data": {
      "text/plain": [
       "userId       0\n",
       "movieId      0\n",
       "rating       0\n",
       "timestamp    0\n",
       "title        0\n",
       "genres       0\n",
       "dtype: int64"
      ]
     },
     "execution_count": 22,
     "metadata": {},
     "output_type": "execute_result"
    }
   ],
   "source": [
    "df_ratings.isnull().sum()"
   ]
  },
  {
   "cell_type": "code",
   "execution_count": 23,
   "id": "784e991b-7b94-4c2b-b5d0-bd66394b3ab0",
   "metadata": {},
   "outputs": [
    {
     "data": {
      "text/plain": [
       "array([     1,      2,      3, ..., 138491, 138492, 138493])"
      ]
     },
     "execution_count": 23,
     "metadata": {},
     "output_type": "execute_result"
    }
   ],
   "source": [
    "np.unique(df_ratings.userId)"
   ]
  },
  {
   "cell_type": "code",
   "execution_count": 24,
   "id": "5cbadb85-11f6-421e-b450-a01a18e605ab",
   "metadata": {},
   "outputs": [],
   "source": [
    "ind_movie_dict = dict(zip(np.unique(df_ratings.movieId), range(len(np.unique(df_ratings.movieId)))))\n",
    "ind_users_dict = dict(zip(np.unique(df_ratings.userId), range(len(np.unique(df_ratings.userId)))))\n",
    "movie_new_ind = df_ratings['movieId'].map(ind_movie_dict)\n",
    "users_new_ind = df_ratings['userId'].map(ind_users_dict)"
   ]
  },
  {
   "cell_type": "code",
   "execution_count": 227,
   "id": "c2143adb-f337-4922-a1c7-784e76c38abb",
   "metadata": {},
   "outputs": [
    {
     "data": {
      "text/plain": [
       "(0                0\n",
       " 1                0\n",
       " 2                0\n",
       " 3                0\n",
       " 4                0\n",
       "              ...  \n",
       " 20000258    138492\n",
       " 20000259    138492\n",
       " 20000260    138492\n",
       " 20000261    138492\n",
       " 20000262    138492\n",
       " Name: userId, Length: 20000263, dtype: int64,\n",
       " 0               1\n",
       " 1              28\n",
       " 2              31\n",
       " 3              46\n",
       " 4              49\n",
       "             ...  \n",
       " 20000258    13754\n",
       " 20000259    13862\n",
       " 20000260    13875\n",
       " 20000261    13993\n",
       " 20000262    14277\n",
       " Name: movieId, Length: 20000263, dtype: int64)"
      ]
     },
     "execution_count": 227,
     "metadata": {},
     "output_type": "execute_result"
    }
   ],
   "source": [
    "(users_new_ind, movie_new_ind)"
   ]
  },
  {
   "cell_type": "code",
   "execution_count": 25,
   "id": "286469c2-237d-4cd4-b118-ca71400099ec",
   "metadata": {},
   "outputs": [],
   "source": [
    "sparse_20m = csr_matrix((df_ratings['rating'], (users_new_ind, movie_new_ind)), shape = (len(np.unique(df_ratings.userId)), len(np.unique(df_ratings.movieId))))"
   ]
  },
  {
   "cell_type": "code",
   "execution_count": 26,
   "id": "b74c6978-6cf4-42b0-b4a8-8c5bcc522533",
   "metadata": {},
   "outputs": [
    {
     "data": {
      "text/plain": [
       "(138493, 26744)"
      ]
     },
     "execution_count": 26,
     "metadata": {},
     "output_type": "execute_result"
    }
   ],
   "source": [
    "sparse_20m.shape"
   ]
  },
  {
   "cell_type": "code",
   "execution_count": 28,
   "id": "301dd784-4e7c-4b3c-9293-ec80319b9e34",
   "metadata": {},
   "outputs": [],
   "source": [
    "#centered\n",
    "\n",
    "def row_mean_center_csr(X):\n",
    "    X = X.copy()  # Don't overwrite original\n",
    "    mean_list = []\n",
    "    for i in range(X.shape[0]):\n",
    "        start, end = X.indptr[i], X.indptr[i+1]\n",
    "        if end > start:\n",
    "            row_data = X.data[start:end]\n",
    "            row_mean = row_data.mean()\n",
    "            mean_list.append(row_mean)\n",
    "            X.data[start:end] -= row_mean\n",
    "    return X, mean_list\n",
    "\n",
    "# Usage:\n",
    "sparse_20m_centered, mean_list = row_mean_center_csr(sparse_20m)"
   ]
  },
  {
   "cell_type": "code",
   "execution_count": null,
   "id": "b30d5f25-b2aa-42ce-b997-4b39195cc9fb",
   "metadata": {},
   "outputs": [],
   "source": []
  },
  {
   "cell_type": "code",
   "execution_count": 33,
   "id": "75c5875b-3f83-4157-a0bc-6b4fe9f47d46",
   "metadata": {},
   "outputs": [],
   "source": [
    "K = 25  # Number of neighbors\n",
    "\n",
    "# Use cosine metric (equivalent to Pearson for centered data)\n",
    "nn = NearestNeighbors(n_neighbors=K+1,  # +1 because the closest is the user itself\n",
    "                      metric='cosine', \n",
    "                      algorithm='brute',  # brute is best for high-dimensional sparse data\n",
    "                      n_jobs=-1)          # use all CPUs\n",
    "\n",
    "nn.fit(sparse_20m_centered)\n",
    "distances, indices = nn.kneighbors(sparse_20m_centered, return_distance=True)"
   ]
  },
  {
   "cell_type": "code",
   "execution_count": 34,
   "id": "e097325a-67f8-447e-870d-fbbf5336b7ff",
   "metadata": {},
   "outputs": [],
   "source": [
    "top_k_indices = indices[:, 1:]      # shape: (n_users, K)\n",
    "top_k_similarities = 1 - distances[:, 1:]"
   ]
  },
  {
   "cell_type": "code",
   "execution_count": 35,
   "id": "7f51f64d-4419-421e-93da-9a10c84eda74",
   "metadata": {},
   "outputs": [
    {
     "data": {
      "text/plain": [
       "(138493, 25)"
      ]
     },
     "execution_count": 35,
     "metadata": {},
     "output_type": "execute_result"
    }
   ],
   "source": [
    "top_k_indices.shape"
   ]
  },
  {
   "cell_type": "code",
   "execution_count": 36,
   "id": "bdf69fdf-8981-4487-9326-b89fbd94be0d",
   "metadata": {},
   "outputs": [],
   "source": [
    "def predict_rating(u, j, user_means, user_item_matrix, top_k_indices, top_k_sims):\n",
    "    # u: user index\n",
    "    # j: movie index\n",
    "    # user_means: array of user mean ratings\n",
    "    # user_item_matrix: csr_matrix (users x movies)\n",
    "    # top_k_indices: (n_users, K) array of neighbor indices\n",
    "    # top_k_sims: (n_users, K) array of similarities\n",
    "\n",
    "    neighbors = top_k_indices[u]\n",
    "    sims = top_k_sims[u]\n",
    "    numerator = 0.0\n",
    "    denominator = 0.0\n",
    "    for v, sim in zip(neighbors, sims):\n",
    "        rating = user_item_matrix[v, j]\n",
    "        if rating != 0:  # neighbor has rated movie j\n",
    "            numerator += sim * (rating)\n",
    "            denominator += abs(sim)\n",
    "    if denominator == 0:\n",
    "        return user_means[u]\n",
    "\n",
    "    return user_means[u] + (numerator/denominator)\n"
   ]
  },
  {
   "cell_type": "code",
   "execution_count": 37,
   "id": "77df1068-3122-4c20-888c-e1adb14b50e1",
   "metadata": {},
   "outputs": [
    {
     "data": {
      "text/plain": [
       "array([[0.59387156, 0.50665132, 0.50483195, ..., 0.37414174, 0.37338117,\n",
       "        0.37028256],\n",
       "       [0.78235919, 0.76590333, 0.71747735, ..., 0.6500008 , 0.64956131,\n",
       "        0.64784104],\n",
       "       [0.29632148, 0.28249597, 0.27613281, ..., 0.21615092, 0.21460945,\n",
       "        0.21299418],\n",
       "       ...,\n",
       "       [0.27884603, 0.27568338, 0.27138094, ..., 0.21635697, 0.21498448,\n",
       "        0.21491789],\n",
       "       [0.17519377, 0.17078533, 0.1640129 , ..., 0.13052048, 0.13024127,\n",
       "        0.12942247],\n",
       "       [0.25176914, 0.24103995, 0.23593337, ..., 0.2126441 , 0.21156199,\n",
       "        0.21155698]])"
      ]
     },
     "execution_count": 37,
     "metadata": {},
     "output_type": "execute_result"
    }
   ],
   "source": [
    "top_k_similarities"
   ]
  },
  {
   "cell_type": "code",
   "execution_count": 38,
   "id": "52c62fbe-5c2a-4daf-acd7-156100191c2c",
   "metadata": {},
   "outputs": [
    {
     "data": {
      "text/plain": [
       "np.float64(3.3550264847681586)"
      ]
     },
     "execution_count": 38,
     "metadata": {},
     "output_type": "execute_result"
    }
   ],
   "source": [
    "predict_rating(0, 0, mean_list, sparse_20m_centered, top_k_indices,top_k_similarities)"
   ]
  },
  {
   "cell_type": "code",
   "execution_count": 43,
   "id": "6e4181a6-f61e-4af8-9e4b-9587d9412862",
   "metadata": {},
   "outputs": [
    {
     "data": {
      "text/plain": [
       "array([    1,    28,    31, ..., 13875, 13993, 14277], dtype=int32)"
      ]
     },
     "execution_count": 43,
     "metadata": {},
     "output_type": "execute_result"
    }
   ],
   "source": [
    "sparse_20m_centered.indices"
   ]
  },
  {
   "cell_type": "code",
   "execution_count": 44,
   "id": "3c1785d9-34fb-4a5a-89ef-40ef178fe6a4",
   "metadata": {},
   "outputs": [],
   "source": [
    "rows, cols = sparse_20m_centered.nonzero()"
   ]
  },
  {
   "cell_type": "code",
   "execution_count": 58,
   "id": "1c9ce08a-4252-480b-8bd8-c71a24ccac63",
   "metadata": {},
   "outputs": [
    {
     "name": "stdout",
     "output_type": "stream",
     "text": [
      "MSE: 0.7851064821227035\n"
     ]
    }
   ],
   "source": [
    "predicted = []\n",
    "actual = []\n",
    "for u, j in zip(rows, cols):\n",
    "    pred = predict_rating(u, j, mean_list, sparse_20m_centered, top_k_indices, top_k_similarities)\n",
    "    predicted.append(pred)\n",
    "    actual.append(true_rating)\n",
    "\n",
    "mse = np.mean((np.array(predicted) - np.array(actual)) ** 2)\n",
    "print(\"MSE:\", mse)"
   ]
  },
  {
   "cell_type": "code",
   "execution_count": 59,
   "id": "76d0939a-a7a4-40c1-af52-5699d24c6aa5",
   "metadata": {},
   "outputs": [
    {
     "name": "stdout",
     "output_type": "stream",
     "text": [
      "RMSE is 0.8860623466340862\n"
     ]
    }
   ],
   "source": [
    "print(f'RMSE is {np.sqrt(mse)}')"
   ]
  },
  {
   "cell_type": "markdown",
   "id": "8581e31f-306e-4783-beb2-88aa666f9576",
   "metadata": {},
   "source": [
    "For our user-user collaborative filtering model we got a very competitive recommendation system with Root Mean Square Error at 0.886.\n",
    "\n",
    "Now we will apply item-item collaborative filtering which will follow a similar approach but focuing on movies or items."
   ]
  },
  {
   "cell_type": "code",
   "execution_count": 7,
   "id": "55e591fd-4a75-4f61-b554-5765a2977fb6",
   "metadata": {},
   "outputs": [],
   "source": [
    "user_ids = np.unique(df_ratings['userId'])\n",
    "movie_ids = np.unique(df_ratings['movieId'])\n",
    "user2idx = {uid: idx for idx, uid in enumerate(user_ids)}\n",
    "movie2idx = {mid: idx for idx, mid in enumerate(movie_ids)}\n",
    "\n",
    "df_ratings['user_idx'] = df_ratings['userId'].map(user2idx)\n",
    "df_ratings['movie_idx'] = df_ratings['movieId'].map(movie2idx)\n"
   ]
  },
  {
   "cell_type": "code",
   "execution_count": 8,
   "id": "0e9867bb-40dd-491b-b99b-15e3483f6d5a",
   "metadata": {},
   "outputs": [],
   "source": [
    "train_df, test_df = train_test_split(df_ratings, test_size=0.2, random_state=42)\n",
    "\n",
    "n_users = len(user_ids)\n",
    "n_movies = len(movie_ids)\n",
    "\n",
    "train_matrix = csr_matrix(\n",
    "    (train_df['rating'], (train_df['user_idx'], train_df['movie_idx'])),\n",
    "    shape=(n_users, n_movies)\n",
    ")\n",
    "test_matrix = csr_matrix(\n",
    "    (test_df['rating'], (test_df['user_idx'], test_df['movie_idx'])),\n",
    "    shape=(n_users, n_movies)\n",
    ")"
   ]
  },
  {
   "cell_type": "code",
   "execution_count": 64,
   "id": "f034ed90-1024-48d0-9d37-f09997c14f1a",
   "metadata": {},
   "outputs": [
    {
     "data": {
      "text/html": [
       "<div>\n",
       "<style scoped>\n",
       "    .dataframe tbody tr th:only-of-type {\n",
       "        vertical-align: middle;\n",
       "    }\n",
       "\n",
       "    .dataframe tbody tr th {\n",
       "        vertical-align: top;\n",
       "    }\n",
       "\n",
       "    .dataframe thead th {\n",
       "        text-align: right;\n",
       "    }\n",
       "</style>\n",
       "<table border=\"1\" class=\"dataframe\">\n",
       "  <thead>\n",
       "    <tr style=\"text-align: right;\">\n",
       "      <th></th>\n",
       "      <th>userId</th>\n",
       "      <th>movieId</th>\n",
       "      <th>rating</th>\n",
       "      <th>timestamp</th>\n",
       "      <th>title</th>\n",
       "      <th>genres</th>\n",
       "      <th>user_idx</th>\n",
       "      <th>movie_idx</th>\n",
       "    </tr>\n",
       "  </thead>\n",
       "  <tbody>\n",
       "    <tr>\n",
       "      <th>17679788</th>\n",
       "      <td>122270</td>\n",
       "      <td>8360</td>\n",
       "      <td>3.5</td>\n",
       "      <td>2012-04-22 01:07:04</td>\n",
       "      <td>Shrek 2 (2004)</td>\n",
       "      <td>Adventure|Animation|Children|Comedy|Musical|Ro...</td>\n",
       "      <td>122269</td>\n",
       "      <td>7761</td>\n",
       "    </tr>\n",
       "    <tr>\n",
       "      <th>7106385</th>\n",
       "      <td>49018</td>\n",
       "      <td>32</td>\n",
       "      <td>2.0</td>\n",
       "      <td>2001-09-11 07:50:36</td>\n",
       "      <td>Twelve Monkeys (a.k.a. 12 Monkeys) (1995)</td>\n",
       "      <td>Mystery|Sci-Fi|Thriller</td>\n",
       "      <td>49017</td>\n",
       "      <td>31</td>\n",
       "    </tr>\n",
       "    <tr>\n",
       "      <th>12970708</th>\n",
       "      <td>89527</td>\n",
       "      <td>109374</td>\n",
       "      <td>3.5</td>\n",
       "      <td>2015-01-06 09:26:40</td>\n",
       "      <td>Grand Budapest Hotel, The (2014)</td>\n",
       "      <td>Comedy|Drama</td>\n",
       "      <td>89526</td>\n",
       "      <td>22764</td>\n",
       "    </tr>\n",
       "    <tr>\n",
       "      <th>15426752</th>\n",
       "      <td>106704</td>\n",
       "      <td>1060</td>\n",
       "      <td>3.0</td>\n",
       "      <td>2000-01-22 21:27:57</td>\n",
       "      <td>Swingers (1996)</td>\n",
       "      <td>Comedy|Drama</td>\n",
       "      <td>106703</td>\n",
       "      <td>1040</td>\n",
       "    </tr>\n",
       "    <tr>\n",
       "      <th>6934678</th>\n",
       "      <td>47791</td>\n",
       "      <td>1732</td>\n",
       "      <td>2.0</td>\n",
       "      <td>2006-01-19 15:48:23</td>\n",
       "      <td>Big Lebowski, The (1998)</td>\n",
       "      <td>Comedy|Crime</td>\n",
       "      <td>47790</td>\n",
       "      <td>1672</td>\n",
       "    </tr>\n",
       "    <tr>\n",
       "      <th>...</th>\n",
       "      <td>...</td>\n",
       "      <td>...</td>\n",
       "      <td>...</td>\n",
       "      <td>...</td>\n",
       "      <td>...</td>\n",
       "      <td>...</td>\n",
       "      <td>...</td>\n",
       "      <td>...</td>\n",
       "    </tr>\n",
       "    <tr>\n",
       "      <th>13643587</th>\n",
       "      <td>94260</td>\n",
       "      <td>36</td>\n",
       "      <td>4.0</td>\n",
       "      <td>2001-12-16 06:33:22</td>\n",
       "      <td>Dead Man Walking (1995)</td>\n",
       "      <td>Crime|Drama</td>\n",
       "      <td>94259</td>\n",
       "      <td>35</td>\n",
       "    </tr>\n",
       "    <tr>\n",
       "      <th>13464658</th>\n",
       "      <td>93021</td>\n",
       "      <td>289</td>\n",
       "      <td>3.0</td>\n",
       "      <td>1997-01-23 10:27:43</td>\n",
       "      <td>Only You (1994)</td>\n",
       "      <td>Comedy|Romance</td>\n",
       "      <td>93020</td>\n",
       "      <td>286</td>\n",
       "    </tr>\n",
       "    <tr>\n",
       "      <th>2091376</th>\n",
       "      <td>14151</td>\n",
       "      <td>41</td>\n",
       "      <td>5.0</td>\n",
       "      <td>1996-06-04 13:14:29</td>\n",
       "      <td>Richard III (1995)</td>\n",
       "      <td>Drama|War</td>\n",
       "      <td>14150</td>\n",
       "      <td>40</td>\n",
       "    </tr>\n",
       "    <tr>\n",
       "      <th>11800879</th>\n",
       "      <td>81453</td>\n",
       "      <td>2671</td>\n",
       "      <td>4.5</td>\n",
       "      <td>2010-11-28 02:38:19</td>\n",
       "      <td>Notting Hill (1999)</td>\n",
       "      <td>Comedy|Romance</td>\n",
       "      <td>81452</td>\n",
       "      <td>2585</td>\n",
       "    </tr>\n",
       "    <tr>\n",
       "      <th>7945952</th>\n",
       "      <td>54739</td>\n",
       "      <td>17</td>\n",
       "      <td>3.0</td>\n",
       "      <td>2005-02-05 21:10:28</td>\n",
       "      <td>Sense and Sensibility (1995)</td>\n",
       "      <td>Drama|Romance</td>\n",
       "      <td>54738</td>\n",
       "      <td>16</td>\n",
       "    </tr>\n",
       "  </tbody>\n",
       "</table>\n",
       "<p>4000053 rows × 8 columns</p>\n",
       "</div>"
      ],
      "text/plain": [
       "          userId  movieId  rating            timestamp  \\\n",
       "17679788  122270     8360     3.5  2012-04-22 01:07:04   \n",
       "7106385    49018       32     2.0  2001-09-11 07:50:36   \n",
       "12970708   89527   109374     3.5  2015-01-06 09:26:40   \n",
       "15426752  106704     1060     3.0  2000-01-22 21:27:57   \n",
       "6934678    47791     1732     2.0  2006-01-19 15:48:23   \n",
       "...          ...      ...     ...                  ...   \n",
       "13643587   94260       36     4.0  2001-12-16 06:33:22   \n",
       "13464658   93021      289     3.0  1997-01-23 10:27:43   \n",
       "2091376    14151       41     5.0  1996-06-04 13:14:29   \n",
       "11800879   81453     2671     4.5  2010-11-28 02:38:19   \n",
       "7945952    54739       17     3.0  2005-02-05 21:10:28   \n",
       "\n",
       "                                              title  \\\n",
       "17679788                             Shrek 2 (2004)   \n",
       "7106385   Twelve Monkeys (a.k.a. 12 Monkeys) (1995)   \n",
       "12970708           Grand Budapest Hotel, The (2014)   \n",
       "15426752                            Swingers (1996)   \n",
       "6934678                    Big Lebowski, The (1998)   \n",
       "...                                             ...   \n",
       "13643587                    Dead Man Walking (1995)   \n",
       "13464658                            Only You (1994)   \n",
       "2091376                          Richard III (1995)   \n",
       "11800879                        Notting Hill (1999)   \n",
       "7945952                Sense and Sensibility (1995)   \n",
       "\n",
       "                                                     genres  user_idx  \\\n",
       "17679788  Adventure|Animation|Children|Comedy|Musical|Ro...    122269   \n",
       "7106385                             Mystery|Sci-Fi|Thriller     49017   \n",
       "12970708                                       Comedy|Drama     89526   \n",
       "15426752                                       Comedy|Drama    106703   \n",
       "6934678                                        Comedy|Crime     47790   \n",
       "...                                                     ...       ...   \n",
       "13643587                                        Crime|Drama     94259   \n",
       "13464658                                     Comedy|Romance     93020   \n",
       "2091376                                           Drama|War     14150   \n",
       "11800879                                     Comedy|Romance     81452   \n",
       "7945952                                       Drama|Romance     54738   \n",
       "\n",
       "          movie_idx  \n",
       "17679788       7761  \n",
       "7106385          31  \n",
       "12970708      22764  \n",
       "15426752       1040  \n",
       "6934678        1672  \n",
       "...             ...  \n",
       "13643587         35  \n",
       "13464658        286  \n",
       "2091376          40  \n",
       "11800879       2585  \n",
       "7945952          16  \n",
       "\n",
       "[4000053 rows x 8 columns]"
      ]
     },
     "execution_count": 64,
     "metadata": {},
     "output_type": "execute_result"
    }
   ],
   "source": [
    "test_df"
   ]
  },
  {
   "cell_type": "code",
   "execution_count": null,
   "id": "fbcdb895-9465-4c02-acee-4cb98d2892f9",
   "metadata": {},
   "outputs": [],
   "source": [
    "from scipy.sparse import csc_matrix\n"
   ]
  },
  {
   "cell_type": "code",
   "execution_count": 89,
   "id": "409aaa47-5584-487a-b1a7-35b824b8127f",
   "metadata": {},
   "outputs": [],
   "source": [
    "from scipy.sparse import csc_matrix\n",
    "\n",
    "def col_mean_center_csc(X):\n",
    "    X = X.copy().tocsc()  # Convert to CSC for efficient column ops\n",
    "    n_rows, n_cols = X.shape\n",
    "    col_means = np.zeros(n_cols)\n",
    "    for j in range(n_cols):\n",
    "        start, end = X.indptr[j], X.indptr[j+1]\n",
    "        col_data = X.data[start:end]\n",
    "        if len(col_data) > 0:\n",
    "            col_mean = col_data.mean()\n",
    "            col_means[j] = col_mean\n",
    "            X.data[start:end] -= col_mean\n",
    "        else:\n",
    "            col_means[j] = 0\n",
    "    return X, col_means"
   ]
  },
  {
   "cell_type": "code",
   "execution_count": 90,
   "id": "486785a0-e831-4f37-931d-f7c4e1beec29",
   "metadata": {},
   "outputs": [],
   "source": [
    "train_centered, train_mean_ratings = col_mean_center_csc(train_matrix)"
   ]
  },
  {
   "cell_type": "code",
   "execution_count": 93,
   "id": "01375a7e-62a9-48c6-bbf3-848c2342acb8",
   "metadata": {},
   "outputs": [],
   "source": [
    "test_centered, test_mean_ratings = col_mean_center_csc(test_matrix)"
   ]
  },
  {
   "cell_type": "code",
   "execution_count": 14,
   "id": "77777c59-30d0-47c4-a1e8-ba45a2639b2d",
   "metadata": {},
   "outputs": [],
   "source": [
    "from sklearn.metrics.pairwise import cosine_similarity\n",
    "\n",
    "# Each column is an item vector (users as features)\n",
    "item_similarity = cosine_similarity(train_centered.T, dense_output=False)"
   ]
  },
  {
   "cell_type": "code",
   "execution_count": 21,
   "id": "5dff891f-77a4-4c55-b279-1f995f43a7be",
   "metadata": {},
   "outputs": [],
   "source": [
    "K = 20  # Number of neighbors\n",
    "\n",
    "# Use cosine metric (equivalent to Pearson for centered data)\n",
    "nn = NearestNeighbors(n_neighbors=K+1,  # +1 because the closest is the user itself\n",
    "                      metric='cosine', \n",
    "                      algorithm='brute',  # brute is best for high-dimensional sparse data\n",
    "                      n_jobs=-1)          # use all CPUs\n",
    "\n",
    "nn.fit(train_centered.T)\n",
    "distances, indices = nn.kneighbors(train_centered.T, return_distance=True)"
   ]
  },
  {
   "cell_type": "code",
   "execution_count": 22,
   "id": "c7377ecd-dd2f-4087-aa10-6153fed762bc",
   "metadata": {},
   "outputs": [],
   "source": [
    "top_k_indices = indices[:, 1:]      # shape: (n_users, K)\n",
    "top_k_similarities = 1 - distances[:, 1:]"
   ]
  },
  {
   "cell_type": "code",
   "execution_count": 24,
   "id": "7f2b5b38-809a-492a-9ac4-c4d4053fd668",
   "metadata": {},
   "outputs": [
    {
     "data": {
      "text/plain": [
       "(26744, 20)"
      ]
     },
     "execution_count": 24,
     "metadata": {},
     "output_type": "execute_result"
    }
   ],
   "source": [
    "top_k_similarities.shape"
   ]
  },
  {
   "cell_type": "code",
   "execution_count": 26,
   "id": "f19a989c-c18b-4daa-8a80-d1749772ce74",
   "metadata": {},
   "outputs": [],
   "source": [
    "def predict_rating(u, j, item_means, user_item_matrix, top_k_indices, top_k_sims):\n",
    "    # u: user index\n",
    "    # j: movie index\n",
    "    # user_means: array of user mean ratings\n",
    "    # user_item_matrix: csr_matrix (users x movies)\n",
    "    # top_k_indices: (n_users, K) array of neighbor indices\n",
    "    # top_k_sims: (n_users, K) array of similarities\n",
    "\n",
    "    neighbors = top_k_indices[j]\n",
    "    sims = top_k_sims[j]\n",
    "    numerator = 0.0\n",
    "    denominator = 0.0\n",
    "    for v, sim in zip(neighbors, sims):\n",
    "        rating = user_item_matrix[u, v]\n",
    "        if rating != 0:  \n",
    "            numerator += sim * (rating)\n",
    "            denominator += abs(sim)\n",
    "    if denominator == 0:\n",
    "        return item_means[j]\n",
    "\n",
    "    return item_means[j] + (numerator/denominator)\n"
   ]
  },
  {
   "cell_type": "code",
   "execution_count": 81,
   "id": "2ff06cae-d4cd-4ad2-b011-8467e487c470",
   "metadata": {},
   "outputs": [
    {
     "data": {
      "text/plain": [
       "(array([0, 0, 0, 0, 0, 0, 0, 0, 0, 0, 0, 0, 0, 0, 0, 0, 0, 0, 0, 0, 0, 0,\n",
       "        0, 0, 0, 0, 0, 0, 0, 0, 0, 0, 0, 0, 0, 0, 0, 0, 0, 0, 0, 0, 0, 0,\n",
       "        0, 0, 0, 0, 0, 0, 0, 0, 0, 0, 0, 0, 0, 0, 0, 0, 0, 0, 0, 0, 0, 0,\n",
       "        0, 0, 0, 0, 0, 0, 0, 0, 0, 0, 0, 0, 0, 0, 0, 0, 0, 0, 0, 0, 0, 0,\n",
       "        0, 0, 0, 0, 0, 0, 0, 0, 0, 0, 0, 0, 0, 0, 0, 0, 0, 0, 0, 0, 0, 0,\n",
       "        0, 0, 0, 0, 0, 0, 0, 0, 0, 0, 0, 0, 0, 0, 0, 0, 0, 0, 0, 0, 0, 0,\n",
       "        0, 0, 0, 0, 0, 0, 0, 0, 0, 0, 0, 0, 0, 0], dtype=int32),\n",
       " array([   1,   46,   49,  110,  149,  220,  250,  257,  290,  293,  315,\n",
       "         333,  363,  537,  583,  645,  902,  907,  990, 1057, 1058, 1067,\n",
       "        1068, 1075, 1113, 1171, 1173, 1175, 1176, 1182, 1188, 1189, 1191,\n",
       "        1193, 1196, 1215, 1218, 1221, 1230, 1231, 1233, 1234, 1238, 1250,\n",
       "        1263, 1275, 1292, 1304, 1318, 1320, 1328, 1339, 1343, 1356, 1478,\n",
       "        1532, 1686, 1765, 1836, 1913, 1937, 2034, 2054, 2056, 2059, 2089,\n",
       "        2090, 2109, 2110, 2168, 2203, 2206, 2457, 2543, 2559, 2562, 2578,\n",
       "        2597, 2675, 2676, 2718, 2786, 2832, 2858, 2861, 2873, 2882, 2914,\n",
       "        2950, 2994, 3066, 3178, 3349, 3387, 3399, 3409, 3796, 3839, 3902,\n",
       "        3903, 3917, 3933, 4011, 4034, 4132, 4211, 4351, 4372, 4476, 4625,\n",
       "        4658, 4782, 4815, 4819, 4845, 4884, 4897, 4943, 4944, 5050, 5075,\n",
       "        5580, 5717, 5853, 5900, 5994, 6234, 6392, 6429, 6644, 6778, 6889,\n",
       "        6933, 7052, 7135, 7275, 7277, 7312, 7323, 7328, 7344, 7455, 7769,\n",
       "        8007, 8278, 9753], dtype=int32))"
      ]
     },
     "execution_count": 81,
     "metadata": {},
     "output_type": "execute_result"
    }
   ],
   "source": [
    "train_matrix[0].nonzero()"
   ]
  },
  {
   "cell_type": "code",
   "execution_count": 94,
   "id": "8e8a0a63-bd03-4077-8f5f-2087da0537da",
   "metadata": {},
   "outputs": [
    {
     "data": {
      "text/plain": [
       "np.float64(4.834565199943208)"
      ]
     },
     "execution_count": 94,
     "metadata": {},
     "output_type": "execute_result"
    }
   ],
   "source": [
    "predict_rating(1, 0, train_mean_ratings, train_centered, top_k_indices, top_k_similarities)"
   ]
  },
  {
   "cell_type": "code",
   "execution_count": 108,
   "id": "c1bb6183-2fe0-459a-b2c4-a3ae4abdc9eb",
   "metadata": {},
   "outputs": [
    {
     "name": "stdout",
     "output_type": "stream",
     "text": [
      "Train MSE: 0.7269377915019403\n",
      "Test MSE: 0.9137911871488545\n"
     ]
    }
   ],
   "source": [
    "# For all observed ratings in train and test\n",
    "def get_observed_indices(sparse_matrix):\n",
    "    rows, cols = sparse_matrix.nonzero()\n",
    "    return list(zip(rows, cols))\n",
    "\n",
    "# Train\n",
    "train_indices = get_observed_indices(train_matrix)\n",
    "train_actual = [train_matrix[u, i] for u, i in train_indices]\n",
    "train_pred = [predict_rating(u, i, train_mean_ratings, train_centered, top_k_indices, top_k_similarities) for u, i in train_indices]\n",
    "\n",
    "# Test\n",
    "test_indices = get_observed_indices(test_matrix)\n",
    "test_actual = [test_matrix[u, i] for u, i in test_indices]\n",
    "test_pred = [predict_rating(u, i, test_mean_ratings, test_centered, top_k_indices, top_k_similarities) for u, i in test_indices]\n",
    "\n",
    "from sklearn.metrics import mean_squared_error\n",
    "print(\"Train MSE:\", mean_squared_error(train_actual, train_pred))\n",
    "print(\"Test MSE:\", mean_squared_error(test_actual, test_pred))"
   ]
  },
  {
   "cell_type": "code",
   "execution_count": 111,
   "id": "aae811d5-9e09-4d9f-a477-2aeb2502fc7a",
   "metadata": {},
   "outputs": [
    {
     "name": "stdout",
     "output_type": "stream",
     "text": [
      "RMSE Train: 0.8526064693057052\n",
      "RMSE Test: 0.9559242580606764\n"
     ]
    }
   ],
   "source": [
    "print(f'RMSE Train: {np.sqrt(mean_squared_error(train_actual, train_pred))}')\n",
    "print(f'RMSE Test: {np.sqrt(mean_squared_error(test_actual, test_pred))}')"
   ]
  },
  {
   "cell_type": "markdown",
   "id": "fc090449-216e-4a4b-89d2-56af4426fb37",
   "metadata": {},
   "source": [
    "## Conclusion"
   ]
  },
  {
   "cell_type": "markdown",
   "id": "a776a550-b312-425c-943f-cdf3861cd1f5",
   "metadata": {},
   "source": [
    "We used tried and tested ways to create the Recommendation system using only ratings, user id, and movie id. Its not a statistical model or a machine learning model or any advanced AI model, but it works quite good and is logically sound. But we can improve on it, in next notebook we will go through Matrix Factorization, AutoRec, and MF-Bayesian Popularity Ranking for a  "
   ]
  },
  {
   "cell_type": "code",
   "execution_count": null,
   "id": "cdd18514-a3e4-4107-9e2a-933a3af9f82f",
   "metadata": {},
   "outputs": [],
   "source": []
  }
 ],
 "metadata": {
  "kernelspec": {
   "display_name": "Python 3 (ipykernel)",
   "language": "python",
   "name": "python3"
  },
  "language_info": {
   "codemirror_mode": {
    "name": "ipython",
    "version": 3
   },
   "file_extension": ".py",
   "mimetype": "text/x-python",
   "name": "python",
   "nbconvert_exporter": "python",
   "pygments_lexer": "ipython3",
   "version": "3.12.11"
  }
 },
 "nbformat": 4,
 "nbformat_minor": 5
}
